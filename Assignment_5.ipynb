{
 "cells": [
  {
   "cell_type": "markdown",
   "id": "9fb4637a",
   "metadata": {},
   "source": [
    "# 1. What does an empty dictionary's code look like?"
   ]
  },
  {
   "cell_type": "markdown",
   "id": "01d49e01",
   "metadata": {},
   "source": [
    "ANS => An empty dictionary is looks like empty curly brackets \"{ }\" or \"dict()\"\n",
    "d = {} or d = dict()"
   ]
  },
  {
   "cell_type": "markdown",
   "id": "809addab",
   "metadata": {},
   "source": [
    "# 2. What is the value of a dictionary value with the key 'foo' and the value 42?"
   ]
  },
  {
   "cell_type": "markdown",
   "id": "5db180ee",
   "metadata": {},
   "source": [
    "ANS => \n",
    "dict = {'foo' : 42}"
   ]
  },
  {
   "cell_type": "markdown",
   "id": "9c1dd381",
   "metadata": {},
   "source": [
    "# 3. What is the most significant distinction between a dictionary and a list?\n"
   ]
  },
  {
   "cell_type": "markdown",
   "id": "d0b5b636",
   "metadata": {},
   "source": [
    "ANS=>\n",
    "\n",
    "Dictionary:-\n",
    "1) represented by {}\n",
    "2) items are in 'key': 'value' paired\n",
    "3) No index value\n",
    "\n",
    "List:-\n",
    "1)represented by []\n",
    "2)items are free no such pairing in list\n",
    "3)indexes are there in List for items"
   ]
  },
  {
   "cell_type": "markdown",
   "id": "76f2d573",
   "metadata": {},
   "source": [
    "# 4. What happens if you try to access spam['foo'] if spam is {'bar': 100}?\n"
   ]
  },
  {
   "cell_type": "code",
   "execution_count": 1,
   "id": "d5eb7ea5",
   "metadata": {},
   "outputs": [
    {
     "ename": "KeyError",
     "evalue": "'foo'",
     "output_type": "error",
     "traceback": [
      "\u001b[1;31m---------------------------------------------------------------------------\u001b[0m",
      "\u001b[1;31mKeyError\u001b[0m                                  Traceback (most recent call last)",
      "Input \u001b[1;32mIn [1]\u001b[0m, in \u001b[0;36m<cell line: 2>\u001b[1;34m()\u001b[0m\n\u001b[0;32m      1\u001b[0m spam \u001b[38;5;241m=\u001b[39m {\u001b[38;5;124m'\u001b[39m\u001b[38;5;124mbar\u001b[39m\u001b[38;5;124m'\u001b[39m:\u001b[38;5;241m100\u001b[39m}\n\u001b[1;32m----> 2\u001b[0m \u001b[43mspam\u001b[49m\u001b[43m[\u001b[49m\u001b[38;5;124;43m'\u001b[39;49m\u001b[38;5;124;43mfoo\u001b[39;49m\u001b[38;5;124;43m'\u001b[39;49m\u001b[43m]\u001b[49m\n",
      "\u001b[1;31mKeyError\u001b[0m: 'foo'"
     ]
    }
   ],
   "source": [
    "spam = {'bar':100}\n",
    "spam['foo']"
   ]
  },
  {
   "cell_type": "markdown",
   "id": "24024842",
   "metadata": {},
   "source": [
    "ANS => It will be KeyError : 'foo'"
   ]
  },
  {
   "cell_type": "markdown",
   "id": "47f6d40d",
   "metadata": {},
   "source": [
    "# 5. If a dictionary is stored in spam, what is the difference between the expressions 'cat' in spam and 'cat' in spam.keys()?\n"
   ]
  },
  {
   "cell_type": "markdown",
   "id": "c5f9bc05",
   "metadata": {},
   "source": [
    "ANS => There is no difference. The operator only checks whether a item exists as a key in the dictionary or not."
   ]
  },
  {
   "cell_type": "markdown",
   "id": "3bf06f4b",
   "metadata": {},
   "source": [
    "# 6. If a dictionary is stored in spam, what is the difference between the expressions 'cat' in spam and 'cat' in spam.values()?\n"
   ]
  },
  {
   "cell_type": "markdown",
   "id": "3f83e8cd",
   "metadata": {},
   "source": [
    "ANS => 'cat' in spam checks whether there is a 'cat' key in the dictionary, while 'cat' in spam.values() checks whether there is a value 'cat' for one of the keys in spam."
   ]
  },
  {
   "cell_type": "markdown",
   "id": "fae29edf",
   "metadata": {},
   "source": [
    "# 7. What is a shortcut for the following code?\n",
    "if 'color' not in spam:\n",
    "spam['color'] = 'black'\n",
    "\n"
   ]
  },
  {
   "cell_type": "markdown",
   "id": "61395e07",
   "metadata": {},
   "source": [
    "ANS => Shortcut is using 'setdefault()' \n",
    "like:\n",
    "spam.setdefault('color','black')"
   ]
  },
  {
   "cell_type": "markdown",
   "id": "7074520c",
   "metadata": {},
   "source": [
    "# 8. How do you \"pretty print\" dictionary values using which module and function?\n"
   ]
  },
  {
   "cell_type": "code",
   "execution_count": 8,
   "id": "3ed863a3",
   "metadata": {},
   "outputs": [
    {
     "name": "stdout",
     "output_type": "stream",
     "text": [
      "**** Using Preety Print ****\n",
      "{'abcd': 'A programmer',\n",
      " 'another_Dict': {'A': 1, 'B': 2},\n",
      " 'fast': 'In a quick manner'}\n"
     ]
    }
   ],
   "source": [
    "import pprint\n",
    "Dict={\"fast\":\"In a quick manner\",\n",
    "       \"abcd\": \"A programmer\",\n",
    "       \"another_Dict\":{\"A\":1,\"B\":2}}\n",
    "print(\"**** Using Preety Print ****\")\n",
    "pprint.pprint(Dict)"
   ]
  },
  {
   "cell_type": "code",
   "execution_count": null,
   "id": "4764c2db",
   "metadata": {},
   "outputs": [],
   "source": []
  }
 ],
 "metadata": {
  "kernelspec": {
   "display_name": "Python 3 (ipykernel)",
   "language": "python",
   "name": "python3"
  },
  "language_info": {
   "codemirror_mode": {
    "name": "ipython",
    "version": 3
   },
   "file_extension": ".py",
   "mimetype": "text/x-python",
   "name": "python",
   "nbconvert_exporter": "python",
   "pygments_lexer": "ipython3",
   "version": "3.9.12"
  }
 },
 "nbformat": 4,
 "nbformat_minor": 5
}
