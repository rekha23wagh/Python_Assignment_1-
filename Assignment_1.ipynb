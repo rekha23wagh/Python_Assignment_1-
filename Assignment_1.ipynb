{
 "cells": [
  {
   "cell_type": "markdown",
   "id": "e92ead25",
   "metadata": {},
   "source": [
    "# Que 1. In the below elements which of them are values or an expression? eg:- values can be\n",
    "integer or string and expressions will be mathematical operators.\n",
    "*\n",
    "hello\n",
    "-87.8\n",
    "-\n",
    "/\n",
    "+\n",
    "6"
   ]
  },
  {
   "cell_type": "markdown",
   "id": "b267198a",
   "metadata": {},
   "source": [
    "Ans:-\n",
    "\n",
    "* => Expression\n",
    "'hello' => Value\n",
    "-87.8 => Value\n",
    "- => Expression\n",
    "/ => Expression\n",
    "+ => Expression\n",
    "6 => Value"
   ]
  },
  {
   "cell_type": "markdown",
   "id": "4d09af78",
   "metadata": {},
   "source": [
    "# Que 2. What is the difference between string and variable?"
   ]
  },
  {
   "cell_type": "markdown",
   "id": "aef93902",
   "metadata": {},
   "source": [
    "Ans :- STRING - String is a datatype that can contain single or group of number or characters,special characters and                       numeric value enclose within single or double quotes.\n",
    "     \n",
    "       VARIABLE - Variable is an entity that can store an information which is callable at any point to use stored                           information\n",
    "     \n",
    " eg.  \n",
    "   var_1 = \"abcdefgh\"\n",
    "   In the above example there 'var_1' is a variable that has stored the value of string 'abcdefdh'."
   ]
  },
  {
   "cell_type": "markdown",
   "id": "8ddaa17f",
   "metadata": {},
   "source": [
    "# Que 3. Describe three different data types."
   ]
  },
  {
   "cell_type": "markdown",
   "id": "ecdd7555",
   "metadata": {},
   "source": [
    "There are following datatype in python:\n",
    "*Boolean, Int, Float*\n",
    "\n",
    "int => The Int datatype holds the value of  numerical.\n",
    "float => Float datatype holds the value for decimal numerical \n",
    "boolean => Boolean datatype contains the value of true or false , that can denoted by keyward 'True' and 'False'"
   ]
  },
  {
   "cell_type": "code",
   "execution_count": 1,
   "id": "2fa7f57a",
   "metadata": {},
   "outputs": [
    {
     "name": "stdout",
     "output_type": "stream",
     "text": [
      "12356 <class 'int'>\n",
      "123.56 <class 'float'>\n",
      "True <class 'str'>\n"
     ]
    }
   ],
   "source": [
    "# eg.\n",
    "num_int = 12356\n",
    "print(num_int, type(num_int))\n",
    "\n",
    "num_float = 123.56\n",
    "print(num_float, type(num_float))\n",
    "\n",
    "num_bool = 'True'\n",
    "print(num_bool, type(num_bool))"
   ]
  },
  {
   "cell_type": "markdown",
   "id": "d39ebeb6",
   "metadata": {},
   "source": [
    "# Que 4. What is an expression made up of? What do all expressions do?"
   ]
  },
  {
   "cell_type": "markdown",
   "id": "94b48eac",
   "metadata": {},
   "source": [
    "Expression=> Expression is the combination of operators and values that perform the mathematical as well  as non                        mathematical operations depending upon the datatype and gives us the result.\n"
   ]
  },
  {
   "cell_type": "code",
   "execution_count": 4,
   "id": "8e5eeb78",
   "metadata": {},
   "outputs": [
    {
     "name": "stdout",
     "output_type": "stream",
     "text": [
      "22\n"
     ]
    }
   ],
   "source": [
    "#eg.\n",
    "a= 10\n",
    "b = 12\n",
    "\n",
    "c = a + b \n",
    "print(c)\n"
   ]
  },
  {
   "cell_type": "markdown",
   "id": "34ea5d15",
   "metadata": {},
   "source": [
    "# Que 5. This assignment statements, like spam = 10. What is the difference between an expression and a statement?"
   ]
  },
  {
   "cell_type": "markdown",
   "id": "7808049e",
   "metadata": {},
   "source": [
    "Statement - Statements represent an action or command. \n",
    "Here, \n",
    "    spam = 10 \n",
    "In above statement, spam is an variable that assignning the value as 10.\n",
    " \n",
    "Expression - Expression is a combination of variables, operations and values that yields a result value.\n",
    "\n",
    "Some expressions may be statement, and Some code can be both an expression or a statement, depending on the context."
   ]
  },
  {
   "cell_type": "markdown",
   "id": "84084899",
   "metadata": {},
   "source": [
    "# Que 6. After running the following code, what does the variable bacon contain- bacon = 22, bacon + 1"
   ]
  },
  {
   "cell_type": "code",
   "execution_count": 1,
   "id": "d5a8c472",
   "metadata": {},
   "outputs": [
    {
     "data": {
      "text/plain": [
       "23"
      ]
     },
     "execution_count": 1,
     "metadata": {},
     "output_type": "execute_result"
    }
   ],
   "source": [
    "bacon = 22\n",
    "bacon + 1"
   ]
  },
  {
   "cell_type": "markdown",
   "id": "33215079",
   "metadata": {},
   "source": [
    "Aftre fetching the above code, variable bacon contain the value as 23. In python until we not updated the previous value its not get changed. so in this line 1, value of bacon is 22 and after running the 2 nd expression value of bacon assigning from 1st statement and finall value of bacon will 23."
   ]
  },
  {
   "cell_type": "markdown",
   "id": "39b6d9c5",
   "metadata": {},
   "source": [
    "# 7. What should the values of the following two terms be? 'spam' + 'spamspam' , 'spam' * 3"
   ]
  },
  {
   "cell_type": "code",
   "execution_count": 6,
   "id": "62a48ba4",
   "metadata": {},
   "outputs": [
    {
     "data": {
      "text/plain": [
       "'spamspamspam'"
      ]
     },
     "execution_count": 6,
     "metadata": {},
     "output_type": "execute_result"
    }
   ],
   "source": [
    "'spam' + 'spamspam'"
   ]
  },
  {
   "cell_type": "code",
   "execution_count": 7,
   "id": "76840e39",
   "metadata": {},
   "outputs": [
    {
     "data": {
      "text/plain": [
       "'spamspamspam'"
      ]
     },
     "execution_count": 7,
     "metadata": {},
     "output_type": "execute_result"
    }
   ],
   "source": [
    "'spam'*3"
   ]
  },
  {
   "cell_type": "markdown",
   "id": "150b98ca",
   "metadata": {},
   "source": [
    "From above two statement the result of both the expressions will same. \n",
    "In 1st case it performed the concatenation operation of strings. While in 2nd case it performed the multiplication operation of string."
   ]
  },
  {
   "cell_type": "markdown",
   "id": "d791fe74",
   "metadata": {},
   "source": [
    "\n",
    "# Que 8. Why is eggs a valid variable name while 100 is invalid?"
   ]
  },
  {
   "cell_type": "markdown",
   "id": "4718f4a8",
   "metadata": {},
   "source": [
    "Variable name 'eggs' is valid because in naming rules of variable, variable name can start with character , '_' or it may be the combination of charactor or numbers, but it never start with the number or it may not be a number as variable.\n"
   ]
  },
  {
   "cell_type": "code",
   "execution_count": 5,
   "id": "011c33cb",
   "metadata": {},
   "outputs": [],
   "source": [
    "eggs = 20"
   ]
  },
  {
   "cell_type": "code",
   "execution_count": 6,
   "id": "006f6b0a",
   "metadata": {},
   "outputs": [
    {
     "data": {
      "text/plain": [
       "20"
      ]
     },
     "execution_count": 6,
     "metadata": {},
     "output_type": "execute_result"
    }
   ],
   "source": [
    "eggs"
   ]
  },
  {
   "cell_type": "code",
   "execution_count": 7,
   "id": "8e7e0e7a",
   "metadata": {},
   "outputs": [
    {
     "ename": "SyntaxError",
     "evalue": "cannot assign to literal (450413528.py, line 1)",
     "output_type": "error",
     "traceback": [
      "\u001b[1;36m  Input \u001b[1;32mIn [7]\u001b[1;36m\u001b[0m\n\u001b[1;33m    358 = 'rekha'\u001b[0m\n\u001b[1;37m    ^\u001b[0m\n\u001b[1;31mSyntaxError\u001b[0m\u001b[1;31m:\u001b[0m cannot assign to literal\n"
     ]
    }
   ],
   "source": [
    "358 = 'rekha'"
   ]
  },
  {
   "cell_type": "markdown",
   "id": "4215a362",
   "metadata": {},
   "source": [
    "# Que 9. What three functions can be used to get the integer, floating-point number, or string version of a value?"
   ]
  },
  {
   "cell_type": "markdown",
   "id": "279b6f1f",
   "metadata": {},
   "source": [
    "There are following three functions to get integer, floating point number and string:\n",
    "1) Integer -> int()\n",
    "2) Floating point -> float()\n",
    "3) string -> str()"
   ]
  },
  {
   "cell_type": "code",
   "execution_count": 1,
   "id": "54dd9aa1",
   "metadata": {},
   "outputs": [
    {
     "name": "stdout",
     "output_type": "stream",
     "text": [
      "int(a) : 12 <class 'str'>\n",
      "b : 1.25 <class 'float'>\n",
      "c : 12 <class 'str'>\n"
     ]
    }
   ],
   "source": [
    "a= '12'\n",
    "b= 1.25\n",
    "c= '12'\n",
    "print('int(a) :', a , type(a))\n",
    "print('b :', float(b), type(b))\n",
    "print('c :', str(c), type(c))\n"
   ]
  },
  {
   "cell_type": "code",
   "execution_count": 9,
   "id": "85c84d61",
   "metadata": {},
   "outputs": [
    {
     "name": "stdout",
     "output_type": "stream",
     "text": [
      "enter integer no : 25\n",
      "enter floating no : 25.25\n",
      "enter string : kjh\n",
      "25 <class 'int'>\n",
      "25.25 <class 'float'>\n",
      "kjh <class 'str'>\n"
     ]
    }
   ],
   "source": [
    "a = int(input('enter integer no : '))\n",
    "b = float(input( 'enter floating no : '))\n",
    "c = str(input('enter string : '))\n",
    "\n",
    "print(a, type(a))\n",
    "print(b, type(b))\n",
    "print(c, type(c))"
   ]
  },
  {
   "cell_type": "markdown",
   "id": "71fdc866",
   "metadata": {},
   "source": [
    "# Que 10. Why does this expression cause an error? How can you fix it? 'I have eaten' + 99 + 'burritos'."
   ]
  },
  {
   "cell_type": "markdown",
   "id": "d334c275",
   "metadata": {},
   "source": [
    "The above expression is of string concatenation. But in that 99 is an integer, so we have to typecast int to string and then we can execute the expression."
   ]
  },
  {
   "cell_type": "code",
   "execution_count": 3,
   "id": "fcf167f1",
   "metadata": {},
   "outputs": [
    {
     "ename": "TypeError",
     "evalue": "can only concatenate str (not \"int\") to str",
     "output_type": "error",
     "traceback": [
      "\u001b[1;31m---------------------------------------------------------------------------\u001b[0m",
      "\u001b[1;31mTypeError\u001b[0m                                 Traceback (most recent call last)",
      "Input \u001b[1;32mIn [3]\u001b[0m, in \u001b[0;36m<cell line: 1>\u001b[1;34m()\u001b[0m\n\u001b[1;32m----> 1\u001b[0m \u001b[38;5;124;43m'\u001b[39;49m\u001b[38;5;124;43mI have eaten\u001b[39;49m\u001b[38;5;124;43m'\u001b[39;49m\u001b[43m \u001b[49m\u001b[38;5;241;43m+\u001b[39;49m\u001b[43m \u001b[49m\u001b[38;5;241;43m99\u001b[39;49m \u001b[38;5;241m+\u001b[39m \u001b[38;5;124m'\u001b[39m\u001b[38;5;124mburritos\u001b[39m\u001b[38;5;124m'\u001b[39m\n",
      "\u001b[1;31mTypeError\u001b[0m: can only concatenate str (not \"int\") to str"
     ]
    }
   ],
   "source": [
    "'I have eaten' + 99 + 'burritos'"
   ]
  },
  {
   "cell_type": "code",
   "execution_count": 8,
   "id": "140aacb3",
   "metadata": {},
   "outputs": [
    {
     "data": {
      "text/plain": [
       "'i have eaten 99 burritos'"
      ]
     },
     "execution_count": 8,
     "metadata": {},
     "output_type": "execute_result"
    }
   ],
   "source": [
    "'i have eaten' + ' '+ str(99) + ' ' + 'burritos'"
   ]
  },
  {
   "cell_type": "code",
   "execution_count": null,
   "id": "e805b131",
   "metadata": {},
   "outputs": [],
   "source": []
  }
 ],
 "metadata": {
  "kernelspec": {
   "display_name": "Python 3 (ipykernel)",
   "language": "python",
   "name": "python3"
  },
  "language_info": {
   "codemirror_mode": {
    "name": "ipython",
    "version": 3
   },
   "file_extension": ".py",
   "mimetype": "text/x-python",
   "name": "python",
   "nbconvert_exporter": "python",
   "pygments_lexer": "ipython3",
   "version": "3.9.12"
  }
 },
 "nbformat": 4,
 "nbformat_minor": 5
}
