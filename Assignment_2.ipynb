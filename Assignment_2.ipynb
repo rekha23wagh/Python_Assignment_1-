{
 "cells": [
  {
   "cell_type": "markdown",
   "id": "a180a127",
   "metadata": {},
   "source": [
    "# Que 1. What are the two values of the Boolean data type? How do you write them?\n",
    "   "
   ]
  },
  {
   "cell_type": "markdown",
   "id": "3cd9a2a6",
   "metadata": {},
   "source": [
    "There are following two values of boolean data type:\n",
    "\n",
    "1) True \n",
    "2) False\n",
    "\n",
    "And the keywards for the values are as 'True' and 'False'\n"
   ]
  },
  {
   "cell_type": "code",
   "execution_count": 20,
   "id": "60005283",
   "metadata": {},
   "outputs": [],
   "source": [
    "# Eg.\n",
    "l= [2,5,8,9,1]"
   ]
  },
  {
   "cell_type": "code",
   "execution_count": 13,
   "id": "32dc0e8e",
   "metadata": {},
   "outputs": [],
   "source": [
    "t = 5 in l"
   ]
  },
  {
   "cell_type": "code",
   "execution_count": 17,
   "id": "605b3329",
   "metadata": {},
   "outputs": [
    {
     "name": "stdout",
     "output_type": "stream",
     "text": [
      "True <class 'bool'>\n"
     ]
    }
   ],
   "source": [
    "print(t,type(t))"
   ]
  },
  {
   "cell_type": "code",
   "execution_count": 19,
   "id": "5fb8b1b5",
   "metadata": {},
   "outputs": [
    {
     "name": "stdout",
     "output_type": "stream",
     "text": [
      "False <class 'bool'>\n"
     ]
    }
   ],
   "source": [
    "f = 55 in l\n",
    "print(f, type(f))"
   ]
  },
  {
   "cell_type": "markdown",
   "id": "5a8cfb31",
   "metadata": {},
   "source": [
    "# Que 2. What are the three different types of Boolean operators?"
   ]
  },
  {
   "cell_type": "markdown",
   "id": "87fb244a",
   "metadata": {},
   "source": [
    "There are three different types of boolean as :\n",
    "1) And\n",
    "2) Or\n",
    "3) Not"
   ]
  },
  {
   "cell_type": "code",
   "execution_count": 31,
   "id": "7b33cfec",
   "metadata": {},
   "outputs": [
    {
     "name": "stdout",
     "output_type": "stream",
     "text": [
      "True\n",
      "False\n",
      "False\n"
     ]
    }
   ],
   "source": [
    "#eg.\n",
    "a = 500\n",
    "b = 100\n",
    "\n",
    "if a > 100 and b > 50:\n",
    "    print('True')\n",
    "else:\n",
    "    print('False')\n",
    "if a > 600 or b > 200:\n",
    "    print(' True')\n",
    "else:\n",
    "    print('False')\n",
    "if b !=  500:\n",
    "    print('False')"
   ]
  },
  {
   "cell_type": "markdown",
   "id": "2d25391a",
   "metadata": {},
   "source": [
    "# Que 3. Make a list of each Boolean operators truth tables (i.e. every possible combination of Boolean values for the operator and what it evaluate )."
   ]
  },
  {
   "cell_type": "markdown",
   "id": "c2cee1cb",
   "metadata": {},
   "source": [
    "The following Truth tables for boolean operators:\n",
    "\n",
    "And:- True and True is always True, otherwise False.\n",
    "    \n",
    "    True   True     True\n",
    "    True   False    False\n",
    "    False  True     False\n",
    "    False  False    False\n",
    "\n",
    "Or:- False or False is alwys False, Otherwise true.\n",
    "\n",
    "    False  False    False\n",
    "    True   False    True\n",
    "    False  True     True\n",
    "    True   True     True\n",
    "   \n",
    "Not:- True is False and False is True.\n",
    "    \n",
    "    True        False\n",
    "    False       True"
   ]
  },
  {
   "cell_type": "markdown",
   "id": "3a229c83",
   "metadata": {},
   "source": [
    "# Que 4. What are the values of the following expressions?\n",
    "(5 > 4) and (3 == 5),\n",
    "not (5 > 4),\n",
    "(5 > 4) or (3 == 5), \n",
    "not ((5 > 4) or (3 == 5)), \n",
    "(True and True) and (True == False), \n",
    "(not False) or (not True), "
   ]
  },
  {
   "cell_type": "code",
   "execution_count": 32,
   "id": "314367a3",
   "metadata": {},
   "outputs": [
    {
     "name": "stdout",
     "output_type": "stream",
     "text": [
      "False\n",
      "False\n",
      "True\n",
      "False\n",
      "False\n",
      "True\n"
     ]
    }
   ],
   "source": [
    "print((5 > 4) and (3 == 5))\n",
    "print(not (5 > 4))\n",
    "print((5 > 4) or (3 == 5))\n",
    "print(not ((5 > 4) or (3 == 5)))\n",
    "print((True and True) and (True == False))\n",
    "print((not False) or (not True))"
   ]
  },
  {
   "cell_type": "markdown",
   "id": "ab9e9470",
   "metadata": {},
   "source": [
    "# Que 5. What are the six comparison operators?"
   ]
  },
  {
   "cell_type": "markdown",
   "id": "e917ce0d",
   "metadata": {},
   "source": [
    "There are Six comparision operators as:\n",
    "\n",
    "== Equals to\n",
    "\n",
    "!= Not equals to\n",
    "\n",
    "< Less than\n",
    "\n",
    "> Greater than\n",
    "\n",
    "<= Less than or equal to\n",
    "\n",
    ">= Greater than or equal to"
   ]
  },
  {
   "cell_type": "markdown",
   "id": "00474e15",
   "metadata": {},
   "source": [
    "# Que 6. How do you tell the difference between the equal to and assignment operators?Describe a condition and when you would use one."
   ]
  },
  {
   "cell_type": "markdown",
   "id": "67932f34",
   "metadata": {},
   "source": [
    "Equal to operator is for comparing two things while the assignment operator have assigning the value of an entity."
   ]
  },
  {
   "cell_type": "code",
   "execution_count": 37,
   "id": "98e635d8",
   "metadata": {},
   "outputs": [
    {
     "name": "stdout",
     "output_type": "stream",
     "text": [
      "True\n"
     ]
    }
   ],
   "source": [
    "#Eg.\n",
    "a = 45\n",
    "\n",
    "if a == 45:\n",
    "    print(a==45)\n",
    "    "
   ]
  },
  {
   "cell_type": "markdown",
   "id": "d279465e",
   "metadata": {},
   "source": [
    "# Que 7. Identify the three blocks in this code:\n",
    "\n",
    "spam = 0\n",
    "if spam == 10:\n",
    "print('eggs')\n",
    "if spam > 5:\n",
    "print('bacon')\n",
    "else:\n",
    "print('ham')\n",
    "print('spam')\n",
    "print(spam')"
   ]
  },
  {
   "cell_type": "markdown",
   "id": "14fca259",
   "metadata": {},
   "source": [
    "There are three blocks from above code:\n",
    "\n",
    "1) if block (line no 4) : spam == 10 -> It will print 'eggs' if condition will satisfy.\n",
    "2) if block (line no 6) : spam > 5 -> It will print 'bacon' if condition will satisfy\n",
    "3) else block (line no 8) : it will print if all the above condition will not satisfy\n"
   ]
  },
  {
   "cell_type": "code",
   "execution_count": 40,
   "id": "8aa81e07",
   "metadata": {},
   "outputs": [
    {
     "name": "stdout",
     "output_type": "stream",
     "text": [
      "ham\n",
      "spam\n",
      "spam\n"
     ]
    }
   ],
   "source": [
    "spam = 0\n",
    "\n",
    "if spam == 10:\n",
    "    print('eggs')\n",
    "if spam > 5:\n",
    "    print('bacon')\n",
    "else:\n",
    "    print('ham')\n",
    "    print('spam')\n",
    "    print('spam')"
   ]
  },
  {
   "cell_type": "markdown",
   "id": "00a89d28",
   "metadata": {},
   "source": [
    "# Que 8. Write code that prints Hello if 1 is stored in spam, prints Howdy if 2 is stored in spam, and prints Greetings! if anything else is stored in spam."
   ]
  },
  {
   "cell_type": "code",
   "execution_count": 47,
   "id": "d2be262d",
   "metadata": {},
   "outputs": [
    {
     "name": "stdout",
     "output_type": "stream",
     "text": [
      "Enter the number :5\n",
      "Greetings !\n"
     ]
    }
   ],
   "source": [
    "spam = int(input(\"Enter the number :\"))\n",
    "if spam == 1:\n",
    "    print(\"Hello\")\n",
    "elif spam == 2:\n",
    "    print(\"Howdy\")\n",
    "else:\n",
    "    print(\"Greetings !\")"
   ]
  },
  {
   "cell_type": "markdown",
   "id": "a02e0485",
   "metadata": {},
   "source": [
    "# Que. 9.If your programme is stuck in an endless loop, what keys you’ll press?"
   ]
  },
  {
   "cell_type": "markdown",
   "id": "906c5793",
   "metadata": {},
   "source": [
    "Ctrl + c is used to stop the endless loop."
   ]
  },
  {
   "cell_type": "markdown",
   "id": "8add93a9",
   "metadata": {},
   "source": [
    "# Que 10. How can you tell the difference between break and continue?"
   ]
  },
  {
   "cell_type": "markdown",
   "id": "cc70476d",
   "metadata": {},
   "source": [
    "Break : - break keywrd will break the loop until condition will satisfied and then come out of loop. \n",
    "Continue : - continue keyward will continue execution of loop untill the condition will satify. "
   ]
  },
  {
   "cell_type": "markdown",
   "id": "7cf1dd8d",
   "metadata": {},
   "source": [
    "# Que 11. In a for loop, what is the difference between range(10), range(0, 10), and range(0, 10, 1)?"
   ]
  },
  {
   "cell_type": "code",
   "execution_count": 58,
   "id": "5d496464",
   "metadata": {},
   "outputs": [
    {
     "name": "stdout",
     "output_type": "stream",
     "text": [
      "0\n",
      "1\n",
      "2\n",
      "3\n",
      "4\n",
      "5\n",
      "6\n",
      "7\n",
      "8\n",
      "9\n"
     ]
    }
   ],
   "source": [
    "#Range(10) : It means it will print the value from 0 to 9 by default.\n",
    "for i in range(10):       \n",
    "    print(i)\n",
    "    i+=1"
   ]
  },
  {
   "cell_type": "code",
   "execution_count": 59,
   "id": "9dc2b237",
   "metadata": {},
   "outputs": [
    {
     "name": "stdout",
     "output_type": "stream",
     "text": [
      "0\n",
      "1\n",
      "2\n",
      "3\n",
      "4\n",
      "5\n",
      "6\n",
      "7\n",
      "8\n",
      "9\n"
     ]
    }
   ],
   "source": [
    "#Range(0, 10) : It has specified the lower bound as 0, means it will print the value from 0 to 9 as given in range\n",
    "for i in range(0,10):    \n",
    "    print(i)\n",
    "    i+=1"
   ]
  },
  {
   "cell_type": "code",
   "execution_count": 60,
   "id": "0b85a5d3",
   "metadata": {},
   "outputs": [
    {
     "name": "stdout",
     "output_type": "stream",
     "text": [
      "0\n",
      "1\n",
      "2\n",
      "3\n",
      "4\n",
      "5\n",
      "6\n",
      "7\n",
      "8\n",
      "9\n"
     ]
    }
   ],
   "source": [
    "#Range(0,10,1) : It means it will print the value from 0 to 9 increasingly jump of +1.\n",
    "for i in range(0,10,1):\n",
    "    print(i)\n",
    "    i+=1"
   ]
  },
  {
   "cell_type": "markdown",
   "id": "d8586a76",
   "metadata": {},
   "source": [
    "Overall in above all the ranges gives us same out put."
   ]
  },
  {
   "cell_type": "markdown",
   "id": "48d74125",
   "metadata": {},
   "source": [
    "# Que 12. Write a short program that prints the numbers 1 to 10 using a for loop. Then write an equivalent program that prints the numbers 1 to 10 using a while loop."
   ]
  },
  {
   "cell_type": "code",
   "execution_count": 62,
   "id": "90340bf2",
   "metadata": {},
   "outputs": [
    {
     "name": "stdout",
     "output_type": "stream",
     "text": [
      "1\n",
      "2\n",
      "3\n",
      "4\n",
      "5\n",
      "6\n",
      "7\n",
      "8\n",
      "9\n",
      "10\n"
     ]
    }
   ],
   "source": [
    "for i in range(1,11):\n",
    "    print(i)\n",
    "    i+=1"
   ]
  },
  {
   "cell_type": "code",
   "execution_count": 68,
   "id": "2bcfcb25",
   "metadata": {},
   "outputs": [
    {
     "name": "stdout",
     "output_type": "stream",
     "text": [
      "1\n",
      "2\n",
      "3\n",
      "4\n",
      "5\n",
      "6\n",
      "7\n",
      "8\n",
      "9\n",
      "10\n"
     ]
    }
   ],
   "source": [
    "n = 1\n",
    "while n < 11:\n",
    "    print(n)\n",
    "    n = n + 1"
   ]
  },
  {
   "cell_type": "markdown",
   "id": "d295e469",
   "metadata": {},
   "source": [
    "# Que 13. If you had a function named bacon() inside a module named spam, how would you call it after importing spam?"
   ]
  },
  {
   "cell_type": "code",
   "execution_count": null,
   "id": "a830354b",
   "metadata": {},
   "outputs": [],
   "source": [
    "import spam\n",
    "def bacon():\n",
    "    pass\n",
    "spam.bacon()    "
   ]
  }
 ],
 "metadata": {
  "kernelspec": {
   "display_name": "Python 3 (ipykernel)",
   "language": "python",
   "name": "python3"
  },
  "language_info": {
   "codemirror_mode": {
    "name": "ipython",
    "version": 3
   },
   "file_extension": ".py",
   "mimetype": "text/x-python",
   "name": "python",
   "nbconvert_exporter": "python",
   "pygments_lexer": "ipython3",
   "version": "3.9.12"
  }
 },
 "nbformat": 4,
 "nbformat_minor": 5
}
