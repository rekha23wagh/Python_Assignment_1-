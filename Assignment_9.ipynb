{
 "cells": [
  {
   "cell_type": "markdown",
   "id": "577dc345",
   "metadata": {},
   "source": [
    "# 1. To what does a relative path refer?"
   ]
  },
  {
   "cell_type": "markdown",
   "id": "3f98ecf2",
   "metadata": {},
   "source": [
    "it specifies the location of a file or directory in relation to the current directory, rather than starting from the root directory of the file system. For example, if the current working directory is \"C:\\Users\\username\\Desktop\", then a relative path of \"Documents\\file.txt\" would refer to a file called \"file.txt\" located in the \"Documents\" folder within the current working directory."
   ]
  },
  {
   "cell_type": "markdown",
   "id": "b5db4176",
   "metadata": {},
   "source": [
    "# 2. What does an absolute path start with your operating system?"
   ]
  },
  {
   "cell_type": "markdown",
   "id": "cffb39e2",
   "metadata": {},
   "source": [
    "The format of an absolute path depends on the operating system being used, but in general, an absolute path starts with the root directory of the file system."
   ]
  },
  {
   "cell_type": "markdown",
   "id": "7e616150",
   "metadata": {},
   "source": [
    "# 3. What do the functions os.getcwd() and os.chdir() do?"
   ]
  },
  {
   "cell_type": "markdown",
   "id": "f20502cd",
   "metadata": {},
   "source": [
    "The functions os.getcwd() and os.chdir() are both part of the Python os module and are used to manipulate the current working directory of a Python script.\n",
    "\n",
    "os.getcwd(): This function returns the current working directory (cwd) of the Python script as a string. The cwd is the directory from which the Python script is currently being executed.\n",
    "\n",
    "os.chdir(path): This function changes the current working directory to the path specified in the argument. The argument can be either a relative or absolute path. After calling this function, all subsequent file operations in the script will be relative to the new current working directory."
   ]
  },
  {
   "cell_type": "markdown",
   "id": "fd2f33f2",
   "metadata": {},
   "source": [
    "# 4. What are the . and .. folders?"
   ]
  },
  {
   "cell_type": "markdown",
   "id": "dde4d2fd",
   "metadata": {},
   "source": [
    "In file systems, the . (dot) and .. (dot dot) folders are special directory names that refer to the current directory and the parent directory, respectively.4\n",
    ". (dot): This refers to the current directory, which is the directory that the user is currently in.\n",
    ".. (dot dot): This refers to the parent directory, which is the directory that contains the current directory"
   ]
  },
  {
   "cell_type": "markdown",
   "id": "54835bab",
   "metadata": {},
   "source": [
    "# 5. In C:\\bacon\\eggs\\spam.txt, which part is the dir name, and which part is the base name?"
   ]
  },
  {
   "cell_type": "markdown",
   "id": "3ce17ead",
   "metadata": {},
   "source": [
    "\"C:\" is the drive name, indicating the root of the file system on the C drive.\n",
    "\"bacon\\eggs\" is the directory name, indicating that the file \"spam.txt\" is located in a directory called \"eggs\" which is inside a directory called \"bacon\".\n",
    "\"spam.txt\" is the base name, indicating the name of the file itself.\n",
    "So, in this example, the directory name is \"bacon\\eggs\" and the base name is \"spam.txt\"\n"
   ]
  },
  {
   "cell_type": "markdown",
   "id": "e3e512c6",
   "metadata": {},
   "source": [
    "# 6. What are the three “mode” arguments that can be passed to the open() function?"
   ]
  },
  {
   "cell_type": "markdown",
   "id": "1d0473f7",
   "metadata": {},
   "source": [
    "The open() function in Python is used to open a file and return a file object that can be used to read or write data to the file. \n",
    "'r': This mode is used for reading files. It opens the file for reading (in text mode by default) and raises an error if the file does not exist.\n",
    "\n",
    "'w': This mode is used for writing files. It opens the file for writing, creates a new file if the file does not exist, and truncates (clears) the contents of the file if it already exists.\n",
    "\n",
    "'a': This mode is used for appending files. It opens the file for writing, creates a new file if the file does not exist, and appends new data to the end of the file if it already exists."
   ]
  },
  {
   "cell_type": "markdown",
   "id": "1e294d17",
   "metadata": {},
   "source": [
    "# 7. What happens if an existing file is opened in write mode?"
   ]
  },
  {
   "cell_type": "markdown",
   "id": "c341bdfd",
   "metadata": {},
   "source": [
    "If an existing file is opened in write mode using the 'w' mode argument in the open() function, the contents of the file will be truncated (deleted) and replaced with the new data being written to the file."
   ]
  },
  {
   "cell_type": "markdown",
   "id": "f890f3a5",
   "metadata": {},
   "source": [
    "# 8. How do you tell the difference between read() and readlines()?"
   ]
  },
  {
   "cell_type": "markdown",
   "id": "cc5a6623",
   "metadata": {},
   "source": [
    "read() returns a single string containing the entire contents of the file, while readlines() returns a list of strings, where each string represents a line of the file. The choice of method to use depends on the specific requirements of the program and how the data in the file is structured."
   ]
  },
  {
   "cell_type": "markdown",
   "id": "7f623d92",
   "metadata": {},
   "source": [
    "# 9. What data structure does a shelf value resemble?"
   ]
  },
  {
   "cell_type": "markdown",
   "id": "5f5ef85b",
   "metadata": {},
   "source": [
    "A shelf value in Python resembles a dictionary data structure. It is a built-in module in Python that allows you to store key-value pairs in a file on disk. The shelf module uses the pickle module to serialize and deserialize objects for storage, which means that the values stored in a shelf can be of any picklable type"
   ]
  },
  {
   "cell_type": "code",
   "execution_count": null,
   "id": "e22dab99",
   "metadata": {},
   "outputs": [],
   "source": []
  }
 ],
 "metadata": {
  "kernelspec": {
   "display_name": "Python 3 (ipykernel)",
   "language": "python",
   "name": "python3"
  },
  "language_info": {
   "codemirror_mode": {
    "name": "ipython",
    "version": 3
   },
   "file_extension": ".py",
   "mimetype": "text/x-python",
   "name": "python",
   "nbconvert_exporter": "python",
   "pygments_lexer": "ipython3",
   "version": "3.9.12"
  }
 },
 "nbformat": 4,
 "nbformat_minor": 5
}
