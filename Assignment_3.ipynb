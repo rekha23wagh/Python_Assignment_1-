{
 "cells": [
  {
   "cell_type": "markdown",
   "id": "f83fc2d1",
   "metadata": {},
   "source": [
    "# 1. Why are functions advantageous to have in your programs?"
   ]
  },
  {
   "cell_type": "markdown",
   "id": "a8a0f1aa",
   "metadata": {},
   "source": [
    "There are following Functions advantageous to have in our programs:\n",
    "1. To increase efficiency\n",
    "2. To increase readability\n",
    "3. To decrease re-usability of code\n"
   ]
  },
  {
   "cell_type": "markdown",
   "id": "d0999edf",
   "metadata": {},
   "source": [
    "# 2. When does the code in a function run: when it's specified or when it's called"
   ]
  },
  {
   "cell_type": "markdown",
   "id": "2b290703",
   "metadata": {},
   "source": [
    "The code in a function run, when it's called"
   ]
  },
  {
   "cell_type": "markdown",
   "id": "01d3d0f3",
   "metadata": {},
   "source": [
    "# 3. What statement creates a function?"
   ]
  },
  {
   "cell_type": "markdown",
   "id": "13c4b060",
   "metadata": {},
   "source": [
    "To create a function the 'def' keyword must use.\n",
    "\n",
    "the syntax is as :\n",
    "\n",
    "def function_name(arguements):\n"
   ]
  },
  {
   "cell_type": "markdown",
   "id": "774c73d7",
   "metadata": {},
   "source": [
    "# 4. What is the difference between a function and a function call?"
   ]
  },
  {
   "cell_type": "markdown",
   "id": "0afd8cbc",
   "metadata": {},
   "source": [
    "Function consist of complete code which we want to execute as a result while function call is only the name of function that already being used and not consist of code or logic. Which is the reusable of code with different arguments.\n",
    "\n",
    "eg,\n",
    "def test():\n",
    "  a = b +c\n",
    "  print(a)\n",
    "This is the test() function using code/logic.\n",
    "\n",
    "\n",
    "test()\n",
    "this is the function call that is usable of above code. \n",
    "  \n"
   ]
  },
  {
   "cell_type": "markdown",
   "id": "2628d9ca",
   "metadata": {},
   "source": [
    "# 5. How many global scopes are there in a Python program? How many local scopes?"
   ]
  },
  {
   "cell_type": "markdown",
   "id": "0e110216",
   "metadata": {},
   "source": [
    "Global scope is only used in Python programm where as local scopes are required as many as function calls."
   ]
  },
  {
   "cell_type": "markdown",
   "id": "582d20cc",
   "metadata": {},
   "source": [
    "# 6. What happens to variables in a local scope when the function call returns?"
   ]
  },
  {
   "cell_type": "markdown",
   "id": "f7e00d1c",
   "metadata": {},
   "source": [
    "There are limitations for the local function where it defined. The scope will limited within the function not outside the difined function so after executing the programm, all veriables will destroy. "
   ]
  },
  {
   "cell_type": "markdown",
   "id": "02a8572b",
   "metadata": {},
   "source": [
    "# 7. What is the concept of a return value? Is it possible to have a return value in an expression?\n"
   ]
  },
  {
   "cell_type": "markdown",
   "id": "02e33ab2",
   "metadata": {},
   "source": [
    "Yes, It is possible to have a return value in an expression. Concept of using the return value is as we use return keyword in the proggramm it will return the value after execution as given below\n",
    "\n",
    "def test():\n",
    "    return 2\n",
    "    \n",
    "test1 = test()*5\n",
    "test1\n"
   ]
  },
  {
   "cell_type": "markdown",
   "id": "b6edc26c",
   "metadata": {},
   "source": [
    "# 8. If a function does not have a return statement, what is the return value of a call to that function?"
   ]
  },
  {
   "cell_type": "markdown",
   "id": "f8397405",
   "metadata": {},
   "source": [
    " if a function does not have a return satatement, It will return None value with data type as NoneType.\n",
    "\n",
    "def test():\n",
    "    pass\n",
    "test1 = test()\n",
    "print(test1)\n",
    "\n",
    "and \n",
    "\n",
    "type(test1)\n"
   ]
  },
  {
   "cell_type": "markdown",
   "id": "3031dcbc",
   "metadata": {},
   "source": [
    "# 9. How do you make a function variable refer to the global variable?\n"
   ]
  },
  {
   "cell_type": "markdown",
   "id": "fcc551d1",
   "metadata": {},
   "source": [
    "To make an variable global, it should use global keyword befor the variable."
   ]
  },
  {
   "cell_type": "code",
   "execution_count": 2,
   "id": "9f121570",
   "metadata": {},
   "outputs": [
    {
     "name": "stdout",
     "output_type": "stream",
     "text": [
      "6\n"
     ]
    }
   ],
   "source": [
    "var = 5\n",
    "def test():\n",
    "    global var\n",
    "    var = 6\n",
    "    return var\n",
    "test()\n",
    "print(var)"
   ]
  },
  {
   "cell_type": "markdown",
   "id": "30c0c6ae",
   "metadata": {},
   "source": [
    "# 10. What is the data type of None?"
   ]
  },
  {
   "cell_type": "markdown",
   "id": "bed35a9e",
   "metadata": {},
   "source": [
    "The None keyword is used to define a null value, or no value at all. None is not the same as 0, False, or an empty string. None is a data type of its own (NoneType) and only None can be None.\n"
   ]
  },
  {
   "cell_type": "code",
   "execution_count": 7,
   "id": "e37d1af1",
   "metadata": {},
   "outputs": [
    {
     "name": "stdout",
     "output_type": "stream",
     "text": [
      "<class 'NoneType'>\n"
     ]
    }
   ],
   "source": [
    "a = None\n",
    "print(type(a))\n"
   ]
  },
  {
   "cell_type": "markdown",
   "id": "64421c0e",
   "metadata": {},
   "source": [
    "# 11. What does the sentence import are all your pets name deric do?"
   ]
  },
  {
   "cell_type": "markdown",
   "id": "9762e564",
   "metadata": {},
   "source": [
    "If there is any module with name areallyourpetsnamederic then it will import this module and we can use functionality comprised in the imported modules.\n",
    "\n",
    "but if there is no module with this name we get ModuleNotFoundError."
   ]
  },
  {
   "cell_type": "code",
   "execution_count": 8,
   "id": "623253e6",
   "metadata": {},
   "outputs": [
    {
     "ename": "ModuleNotFoundError",
     "evalue": "No module named 'areallyourpetsnamederic'",
     "output_type": "error",
     "traceback": [
      "\u001b[1;31m---------------------------------------------------------------------------\u001b[0m",
      "\u001b[1;31mModuleNotFoundError\u001b[0m                       Traceback (most recent call last)",
      "Input \u001b[1;32mIn [8]\u001b[0m, in \u001b[0;36m<cell line: 1>\u001b[1;34m()\u001b[0m\n\u001b[1;32m----> 1\u001b[0m \u001b[38;5;28;01mimport\u001b[39;00m \u001b[38;5;21;01mareallyourpetsnamederic\u001b[39;00m\n",
      "\u001b[1;31mModuleNotFoundError\u001b[0m: No module named 'areallyourpetsnamederic'"
     ]
    }
   ],
   "source": [
    "import areallyourpetsnamederic"
   ]
  },
  {
   "cell_type": "markdown",
   "id": "cae55324",
   "metadata": {},
   "source": [
    "# 12. If you had a bacon() feature in a spam module, what would you call it after importing spam?"
   ]
  },
  {
   "cell_type": "markdown",
   "id": "0fd17f22",
   "metadata": {},
   "source": [
    "This function can be called with spam.bacon()."
   ]
  },
  {
   "cell_type": "code",
   "execution_count": 9,
   "id": "381be4df",
   "metadata": {},
   "outputs": [
    {
     "ename": "ModuleNotFoundError",
     "evalue": "No module named 'spam'",
     "output_type": "error",
     "traceback": [
      "\u001b[1;31m---------------------------------------------------------------------------\u001b[0m",
      "\u001b[1;31mModuleNotFoundError\u001b[0m                       Traceback (most recent call last)",
      "Input \u001b[1;32mIn [9]\u001b[0m, in \u001b[0;36m<cell line: 1>\u001b[1;34m()\u001b[0m\n\u001b[1;32m----> 1\u001b[0m \u001b[38;5;28;01mimport\u001b[39;00m \u001b[38;5;21;01mspam\u001b[39;00m\n\u001b[0;32m      2\u001b[0m spam\u001b[38;5;241m.\u001b[39mbacon()\n",
      "\u001b[1;31mModuleNotFoundError\u001b[0m: No module named 'spam'"
     ]
    }
   ],
   "source": [
    "import spam\n",
    "spam.bacon()"
   ]
  },
  {
   "cell_type": "markdown",
   "id": "91bf08d5",
   "metadata": {},
   "source": [
    "# 13. What can you do to save a programme from crashing if it encounters an error?"
   ]
  },
  {
   "cell_type": "markdown",
   "id": "54cdfbd6",
   "metadata": {},
   "source": [
    "I Will use Exception handling to avoid such cases, if we know where program can encounter the errors and will place the line of code that might cause an error in a try clause."
   ]
  },
  {
   "cell_type": "markdown",
   "id": "2d5c73ed",
   "metadata": {},
   "source": [
    "# 14. What is the purpose of the try clause? What is the purpose of the except clause?"
   ]
  },
  {
   "cell_type": "markdown",
   "id": "32224822",
   "metadata": {},
   "source": [
    "try:- Try clause is used to check the code for exceptions where we might encounter run-time error/exception.\n",
    "\n",
    "except:-Except clause is used to handle the exception which code inside try clause encounters, can print custom message or required info  for that exception."
   ]
  },
  {
   "cell_type": "code",
   "execution_count": null,
   "id": "508e0713",
   "metadata": {},
   "outputs": [],
   "source": []
  }
 ],
 "metadata": {
  "kernelspec": {
   "display_name": "Python 3 (ipykernel)",
   "language": "python",
   "name": "python3"
  },
  "language_info": {
   "codemirror_mode": {
    "name": "ipython",
    "version": 3
   },
   "file_extension": ".py",
   "mimetype": "text/x-python",
   "name": "python",
   "nbconvert_exporter": "python",
   "pygments_lexer": "ipython3",
   "version": "3.9.12"
  }
 },
 "nbformat": 4,
 "nbformat_minor": 5
}
