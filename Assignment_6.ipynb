{
 "cells": [
  {
   "cell_type": "markdown",
   "id": "8969396a",
   "metadata": {},
   "source": [
    "# 1. What are escape characters, and how do you use them?"
   ]
  },
  {
   "cell_type": "markdown",
   "id": "8c9fc42d",
   "metadata": {},
   "source": [
    "Escape characters are special characters that allow you to represent certain characters that are difficult or impossible to type directly in a string or character literal. They are typically represented by a backslash followed by a character, such as \\n, which represents a newline character."
   ]
  },
  {
   "cell_type": "markdown",
   "id": "fe94a236",
   "metadata": {},
   "source": [
    "# 2. What do the escape characters n and t stand for?\n"
   ]
  },
  {
   "cell_type": "markdown",
   "id": "f490aeb6",
   "metadata": {},
   "source": [
    "\n",
    "\\n: Newline\n",
    "\\t: Tab\n"
   ]
  },
  {
   "cell_type": "markdown",
   "id": "ecb49d52",
   "metadata": {},
   "source": [
    "# 3. What is the way to include backslash characters in a string?"
   ]
  },
  {
   "cell_type": "markdown",
   "id": "b0e29f8e",
   "metadata": {},
   "source": [
    "To include a backslash character in a string, you can use a double backslash \\\\ as the backslash character itself is also used as an escape character"
   ]
  },
  {
   "cell_type": "markdown",
   "id": "9c8e1dde",
   "metadata": {},
   "source": [
    "# 4. The string \"Howl's Moving Castle\" is a correct value. \n",
    "Why isn't the single quote character in the word Howl's not escaped a problem?"
   ]
  },
  {
   "cell_type": "markdown",
   "id": "948fee3c",
   "metadata": {},
   "source": [
    "The single quote character in the word Howl's is not causing a problem because the string itself is enclosed in double quotes. In Python, you can enclose a string in either single quotes or double quotes. When a string is enclosed in double quotes, any single quotes within the string are treated as a regular character and do not need to be escaped."
   ]
  },
  {
   "cell_type": "markdown",
   "id": "d3d3277c",
   "metadata": {},
   "source": [
    "# 5. How do you write a string of newlines if you don't want to use the n character?"
   ]
  },
  {
   "cell_type": "markdown",
   "id": "6a7b489f",
   "metadata": {},
   "source": [
    "triple quotes (\"\"\") to create a multi-line string that contains newlines. When a string is enclosed in triple quotes, it can span multiple lines, and any newlines or other whitespace characters within the string are preserved"
   ]
  },
  {
   "cell_type": "code",
   "execution_count": 9,
   "id": "fd0e056d",
   "metadata": {},
   "outputs": [
    {
     "name": "stdout",
     "output_type": "stream",
     "text": [
      "This is a string\n",
      "that spans multiple\n",
      "lines\n"
     ]
    }
   ],
   "source": [
    "my_string = \"\"\"This is a string\n",
    "that spans multiple\n",
    "lines\"\"\"\n",
    "print(my_string)\n"
   ]
  },
  {
   "cell_type": "markdown",
   "id": "e006bb0c",
   "metadata": {},
   "source": [
    "# 6. What are the values of the given expressions?\n",
    "'Hello, world!'[1]\n",
    "'Hello, world!'[0:5]\n",
    "'Hello, world!'[:5]\n",
    "'Hello, world!'[3:]\n"
   ]
  },
  {
   "cell_type": "markdown",
   "id": "fdb03877",
   "metadata": {},
   "source": [
    "'Hello, world!'[1] returns the character at index 1 in the string, which is 'e'.\n",
    "\n",
    "'Hello, world!'[0:5] returns a substring that starts at index 0 and ends at index 4 (5 is not included), which is 'Hello'.\n",
    "\n",
    "'Hello, world!'[:5] returns a substring that starts at the beginning of the string and ends at index 4 (5 is not included), which is 'Hello'.\n",
    "\n",
    "'Hello, world!'[3:] returns a substring that starts at index 3 and includes all characters until the end of the string, which is 'lo, world!'."
   ]
  },
  {
   "cell_type": "markdown",
   "id": "d7e576d8",
   "metadata": {},
   "source": [
    "# 7. What are the values of the following expressions?\n",
    "'Hello'.upper()\n",
    "'Hello'.upper().isupper()\n",
    "'Hello'.upper().lower()\n"
   ]
  },
  {
   "cell_type": "markdown",
   "id": "c2d541ab",
   "metadata": {},
   "source": [
    "'Hello'.upper() returns a new string that is the uppercase version of the original string, which is 'HELLO'.\n",
    "\n",
    "'Hello'.upper().isupper() calls the isupper() method on the uppercase string 'HELLO'. This method returns True if all characters in the string are uppercase, which is True in this case.\n",
    "\n",
    "'Hello'.upper().lower() calls the lower() method on the uppercase string 'HELLO'. This method returns a new string that is the lowercase version of the original string, which is 'hello'"
   ]
  },
  {
   "cell_type": "markdown",
   "id": "695f91e9",
   "metadata": {},
   "source": [
    "# 8. What are the values of the following expressions?\n",
    "'Remember, remember, the fifth of July.'.split()\n",
    "'-'.join('There can only one.'.split())\n"
   ]
  },
  {
   "cell_type": "markdown",
   "id": "2b27bcf1",
   "metadata": {},
   "source": [
    "'Remember, remember, the fifth of July.'.split() splits the string at whitespace characters (spaces, tabs, and newlines) and returns a list of the resulting substrings. \n",
    "\n",
    "'-'.join('There can only one.'.split()) splits the string at whitespace characters and then joins the resulting substrings with a hyphen ('-') as the separator. In this case, the result is the string 'There-can-only-one.'."
   ]
  },
  {
   "cell_type": "markdown",
   "id": "49ae87c1",
   "metadata": {},
   "source": [
    "# 9. What are the methods for right-justifying, left-justifying, and centering a string?"
   ]
  },
  {
   "cell_type": "markdown",
   "id": "6dbb416e",
   "metadata": {},
   "source": [
    "str.rjust(width[, fillchar]): This method returns a new string that is right-justified in a field of the specified width. By default, the fill character is a space, but a different character can be specified with the optional fillchar parameter"
   ]
  },
  {
   "cell_type": "markdown",
   "id": "0467cb64",
   "metadata": {},
   "source": [
    "str.ljust(width[, fillchar]): This method returns a new string that is left-justified in a field of the specified width. By default, the fill character is a space, but a different character can be specified with the optional fillchar parameter."
   ]
  },
  {
   "cell_type": "markdown",
   "id": "4fe8aebf",
   "metadata": {},
   "source": [
    "str.center(width[, fillchar]): This method returns a new string that is centered in a field of the specified width. By default, the fill character is a space, but a different character can be specified with the optional fillchar parameter."
   ]
  },
  {
   "cell_type": "markdown",
   "id": "63717e80",
   "metadata": {},
   "source": [
    "# 10. What is the best way to remove whitespace characters from the start or end?"
   ]
  },
  {
   "cell_type": "markdown",
   "id": "904d9e7e",
   "metadata": {},
   "source": [
    "the most common way to remove whitespace characters from the start or end of a string is to use the strip() method. This method removes any whitespace characters (spaces, tabs, and newlines) from the start and end of the string and returns a new string with the whitespace characters removed"
   ]
  },
  {
   "cell_type": "code",
   "execution_count": null,
   "id": "e60f9717",
   "metadata": {},
   "outputs": [],
   "source": []
  }
 ],
 "metadata": {
  "kernelspec": {
   "display_name": "Python 3 (ipykernel)",
   "language": "python",
   "name": "python3"
  },
  "language_info": {
   "codemirror_mode": {
    "name": "ipython",
    "version": 3
   },
   "file_extension": ".py",
   "mimetype": "text/x-python",
   "name": "python",
   "nbconvert_exporter": "python",
   "pygments_lexer": "ipython3",
   "version": "3.9.12"
  }
 },
 "nbformat": 4,
 "nbformat_minor": 5
}
