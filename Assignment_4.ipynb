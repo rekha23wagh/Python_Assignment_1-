{
 "cells": [
  {
   "cell_type": "markdown",
   "id": "327a9550",
   "metadata": {},
   "source": [
    "# 1. What exactly is []?"
   ]
  },
  {
   "cell_type": "markdown",
   "id": "14855124",
   "metadata": {},
   "source": [
    "It is used to create a list in python. It contains collection of data of different datatypes separated by comma. Various data can be accessed using index position and various operations can be performed.\n",
    "\n",
    "eg. [45,89,'kjhg',{4:8, 56:'hello'},\"Hii\"]"
   ]
  },
  {
   "cell_type": "markdown",
   "id": "e8525d3b",
   "metadata": {},
   "source": [
    "# 2. In a list of values stored in a variable called spam, how would you assign the value 'hello' as the third value? (Assume [2, 4, 6, 8, 10] are in spam.)"
   ]
  },
  {
   "cell_type": "code",
   "execution_count": 2,
   "id": "07a31ab5",
   "metadata": {},
   "outputs": [
    {
     "name": "stdout",
     "output_type": "stream",
     "text": [
      "[2, 4, 'hello', 8, 10]\n"
     ]
    }
   ],
   "source": [
    "spam = [2,4,6,8,10]             #assume\n",
    "spam[2] = 'hello'               #third value is at index 2 \n",
    "print(spam)"
   ]
  },
  {
   "cell_type": "markdown",
   "id": "d36758a4",
   "metadata": {},
   "source": [
    "# OR"
   ]
  },
  {
   "cell_type": "code",
   "execution_count": 11,
   "id": "a7b5659d",
   "metadata": {},
   "outputs": [
    {
     "data": {
      "text/plain": [
       "[2, 4, 'hello', 6, 8, 10]"
      ]
     },
     "execution_count": 11,
     "metadata": {},
     "output_type": "execute_result"
    }
   ],
   "source": [
    "spam = [2,4,6,8,10]             #Assume\n",
    "spam.insert(2,'hello')\n",
    "spam"
   ]
  },
  {
   "cell_type": "markdown",
   "id": "37acd403",
   "metadata": {},
   "source": [
    "# Let's pretend the spam includes the list ['a', 'b', 'c', 'd'] for the next three queries."
   ]
  },
  {
   "cell_type": "markdown",
   "id": "daa40c41",
   "metadata": {},
   "source": [
    "# 3. What is the value of spam[int(int('3' * 2) / 11)]?"
   ]
  },
  {
   "cell_type": "code",
   "execution_count": 7,
   "id": "9360e5f7",
   "metadata": {},
   "outputs": [
    {
     "data": {
      "text/plain": [
       "'d'"
      ]
     },
     "execution_count": 7,
     "metadata": {},
     "output_type": "execute_result"
    }
   ],
   "source": [
    "spam =['a', 'b', 'c', 'd']\n",
    "spam[int(int('3' * 2) / 11)]        \n",
    "\n",
    "#spam[int(int('33')/11)]\n",
    "#spam[int(33/11)]\n",
    "#spam[3]"
   ]
  },
  {
   "cell_type": "markdown",
   "id": "e8776a07",
   "metadata": {},
   "source": [
    "# 4. What is the value of spam[-1]?"
   ]
  },
  {
   "cell_type": "code",
   "execution_count": 8,
   "id": "aa707cd7",
   "metadata": {},
   "outputs": [
    {
     "data": {
      "text/plain": [
       "'d'"
      ]
     },
     "execution_count": 8,
     "metadata": {},
     "output_type": "execute_result"
    }
   ],
   "source": [
    "spam =['a', 'b', 'c', 'd']\n",
    "spam[-1]"
   ]
  },
  {
   "cell_type": "markdown",
   "id": "b0c24f18",
   "metadata": {},
   "source": [
    "# 5. What is the value of spam[:2]?"
   ]
  },
  {
   "cell_type": "code",
   "execution_count": 9,
   "id": "5555fcd8",
   "metadata": {},
   "outputs": [
    {
     "data": {
      "text/plain": [
       "['a', 'b']"
      ]
     },
     "execution_count": 9,
     "metadata": {},
     "output_type": "execute_result"
    }
   ],
   "source": [
    "spam =['a', 'b', 'c', 'd']\n",
    "spam[:2]"
   ]
  },
  {
   "cell_type": "markdown",
   "id": "dd41ce05",
   "metadata": {},
   "source": [
    "# Let's pretend bacon has the list [3.14, 'cat,' 11, 'cat,' True] for the next three questions."
   ]
  },
  {
   "cell_type": "markdown",
   "id": "0b6a3476",
   "metadata": {},
   "source": [
    "# 6. What is the value of bacon.index('cat')?"
   ]
  },
  {
   "cell_type": "code",
   "execution_count": 12,
   "id": "80e4c83d",
   "metadata": {},
   "outputs": [
    {
     "data": {
      "text/plain": [
       "1"
      ]
     },
     "execution_count": 12,
     "metadata": {},
     "output_type": "execute_result"
    }
   ],
   "source": [
    "bacon= [3.14, 'cat', 11, 'cat', True]\n",
    "bacon.index('cat')"
   ]
  },
  {
   "cell_type": "markdown",
   "id": "baa8c2ab",
   "metadata": {},
   "source": [
    "# 7. How does bacon.append(99) change the look of the list value in bacon?"
   ]
  },
  {
   "cell_type": "code",
   "execution_count": 14,
   "id": "2258e582",
   "metadata": {},
   "outputs": [
    {
     "data": {
      "text/plain": [
       "[3.14, 'cat', 11, 'cat', True, 99]"
      ]
     },
     "execution_count": 14,
     "metadata": {},
     "output_type": "execute_result"
    }
   ],
   "source": [
    "bacon= [3.14, 'cat', 11, 'cat', True]\n",
    "bacon.append(99)         #append function will add the value at end of the list\n",
    "bacon"
   ]
  },
  {
   "cell_type": "markdown",
   "id": "68d2b0c0",
   "metadata": {},
   "source": [
    "# 8. How does bacon.remove('cat') change the look of the list in bacon?"
   ]
  },
  {
   "cell_type": "code",
   "execution_count": 16,
   "id": "0a3e13b6",
   "metadata": {},
   "outputs": [
    {
     "data": {
      "text/plain": [
       "[3.14, 11, 'cat', True]"
      ]
     },
     "execution_count": 16,
     "metadata": {},
     "output_type": "execute_result"
    }
   ],
   "source": [
    "bacon= [3.14, 'cat', 11, 'cat', True]\n",
    "bacon.remove('cat')           #there are two \"cat\" elements present in the list but it will remove only one via remove fun\n",
    "bacon"
   ]
  },
  {
   "cell_type": "markdown",
   "id": "82651060",
   "metadata": {},
   "source": [
    "# 9. What are the list concatenation and list replication operators?"
   ]
  },
  {
   "cell_type": "markdown",
   "id": "47d34af4",
   "metadata": {},
   "source": [
    "'+' is the list concatenation operator that concatenates the multiple list in single form\n",
    "'*' is the list replication operator that multiply the list number of times."
   ]
  },
  {
   "cell_type": "code",
   "execution_count": 18,
   "id": "481e3303",
   "metadata": {},
   "outputs": [
    {
     "data": {
      "text/plain": [
       "[3.14, 'cat', 11, 'cat', True, 'a', 'b', 'c', 'd']"
      ]
     },
     "execution_count": 18,
     "metadata": {},
     "output_type": "execute_result"
    }
   ],
   "source": [
    "#eg.1\n",
    "bacon= [3.14, 'cat', 11, 'cat', True]\n",
    "spam =['a', 'b', 'c', 'd']\n",
    "con = bacon + spam\n",
    "con"
   ]
  },
  {
   "cell_type": "code",
   "execution_count": 25,
   "id": "545a0ded",
   "metadata": {},
   "outputs": [
    {
     "data": {
      "text/plain": [
       "['a', 'b', 'c', 'd', 'a', 'b', 'c', 'd']"
      ]
     },
     "execution_count": 25,
     "metadata": {},
     "output_type": "execute_result"
    }
   ],
   "source": [
    "#eg.2\n",
    "bacon= [3.14, 'cat', 11, 'cat', True]\n",
    "spam =['a', 'b', 'c', 'd']\n",
    "sp = spam *2\n",
    "sp"
   ]
  },
  {
   "cell_type": "markdown",
   "id": "9cfcf59f",
   "metadata": {},
   "source": [
    "# 10. What is difference between the list methods append() and insert()?\n"
   ]
  },
  {
   "cell_type": "markdown",
   "id": "c03d4418",
   "metadata": {},
   "source": [
    "append() :- The method append will add the element by default at the end of list only.\n",
    "insert() :- The method insert will add the element where we want to place in the list."
   ]
  },
  {
   "cell_type": "code",
   "execution_count": 27,
   "id": "ba89d08f",
   "metadata": {},
   "outputs": [
    {
     "data": {
      "text/plain": [
       "[2, 4, 'hello', 6, 8, 10]"
      ]
     },
     "execution_count": 27,
     "metadata": {},
     "output_type": "execute_result"
    }
   ],
   "source": [
    "#eg.\n",
    "spam = [2,4,6,8,10]            \n",
    "spam.insert(2,'hello')\n",
    "spam"
   ]
  },
  {
   "cell_type": "code",
   "execution_count": 30,
   "id": "17bb46a8",
   "metadata": {},
   "outputs": [
    {
     "data": {
      "text/plain": [
       "[2, 4, 6, 8, 10, 'hello']"
      ]
     },
     "execution_count": 30,
     "metadata": {},
     "output_type": "execute_result"
    }
   ],
   "source": [
    "#eg.\n",
    "spam = [2,4,6,8,10]             \n",
    "spam.append('hello')\n",
    "spam\n"
   ]
  },
  {
   "cell_type": "markdown",
   "id": "5e73fe43",
   "metadata": {},
   "source": [
    "# 11. What are the two methods for removing items from a list?"
   ]
  },
  {
   "cell_type": "markdown",
   "id": "d42c47b3",
   "metadata": {},
   "source": [
    "remove() and pop() these are the two methods to remove the item from list.\n",
    "\n",
    "remove() :-It removes the element which we want from the list.\n",
    "pop() :- It removes last element from the list."
   ]
  },
  {
   "cell_type": "code",
   "execution_count": 36,
   "id": "ebb71a1b",
   "metadata": {},
   "outputs": [
    {
     "data": {
      "text/plain": [
       "[2, 6, 8, 10]"
      ]
     },
     "execution_count": 36,
     "metadata": {},
     "output_type": "execute_result"
    }
   ],
   "source": [
    "spam = [2,4,6,8,10]            \n",
    "spam.remove(4)\n",
    "spam"
   ]
  },
  {
   "cell_type": "code",
   "execution_count": 33,
   "id": "86a91ae9",
   "metadata": {},
   "outputs": [
    {
     "data": {
      "text/plain": [
       "[2, 4, 6, 8]"
      ]
     },
     "execution_count": 33,
     "metadata": {},
     "output_type": "execute_result"
    }
   ],
   "source": [
    "spam = [2,4,6,8,10]            \n",
    "spam.pop()\n",
    "spam"
   ]
  },
  {
   "cell_type": "markdown",
   "id": "27153bd3",
   "metadata": {},
   "source": [
    "# 12. Describe how list values and string values are identical."
   ]
  },
  {
   "cell_type": "markdown",
   "id": "74134696",
   "metadata": {},
   "source": [
    "There are many identical things in list and string as:\n",
    "- list values and strings are accessible using index values.\n",
    "- The length of list and string can find using len() method.\n",
    "- Both can be concatenated or replicated."
   ]
  },
  {
   "cell_type": "code",
   "execution_count": 45,
   "id": "4981b7ea",
   "metadata": {},
   "outputs": [
    {
     "data": {
      "text/plain": [
       "3"
      ]
     },
     "execution_count": 45,
     "metadata": {},
     "output_type": "execute_result"
    }
   ],
   "source": [
    "#e.g. \n",
    "l = [1,2,3,4,5]\n",
    "l[2]"
   ]
  },
  {
   "cell_type": "code",
   "execution_count": 44,
   "id": "630d4ce2",
   "metadata": {},
   "outputs": [
    {
     "data": {
      "text/plain": [
       "'l'"
      ]
     },
     "execution_count": 44,
     "metadata": {},
     "output_type": "execute_result"
    }
   ],
   "source": [
    "#eg.\n",
    "str = \"hello\"\n",
    "str[2]"
   ]
  },
  {
   "cell_type": "markdown",
   "id": "cc7cf5c2",
   "metadata": {},
   "source": [
    "# 13. What's the difference between tuples and lists?"
   ]
  },
  {
   "cell_type": "markdown",
   "id": "28455294",
   "metadata": {},
   "source": [
    "Tuple:- It is used to create a collection of elements using () brackets. \n",
    "Tuples are immutable so once it is created it cannot be changed\n",
    "\n",
    "List:- It is also used to create a collection of elements using [] brackets. \n",
    "Lists are mutable and can be modified to change the elements.\n",
    "\n",
    "Also tuples occupy less memory than list while storing the same number and type of elements inside them."
   ]
  },
  {
   "cell_type": "markdown",
   "id": "9f6a0997",
   "metadata": {},
   "source": [
    "# 14. How do you type a tuple value that only contains the integer 42?"
   ]
  },
  {
   "cell_type": "markdown",
   "id": "48e9ffbe",
   "metadata": {},
   "source": [
    " tuple can define as below -\n",
    "\n",
    "t = (42,)\n"
   ]
  },
  {
   "cell_type": "code",
   "execution_count": 48,
   "id": "f97e6f39",
   "metadata": {},
   "outputs": [],
   "source": [
    "t=(42,)"
   ]
  },
  {
   "cell_type": "code",
   "execution_count": 49,
   "id": "be932487",
   "metadata": {},
   "outputs": [
    {
     "data": {
      "text/plain": [
       "tuple"
      ]
     },
     "execution_count": 49,
     "metadata": {},
     "output_type": "execute_result"
    }
   ],
   "source": [
    "type(t)"
   ]
  },
  {
   "cell_type": "markdown",
   "id": "2e29979e",
   "metadata": {},
   "source": [
    "# 15. How do you get a list value's tuple form? How do you get a tuple value's list form?"
   ]
  },
  {
   "cell_type": "markdown",
   "id": "05cd9159",
   "metadata": {},
   "source": [
    "We can chnage the forms from tuple to list and list to tuple as per their notation via () and [] for tuple and list respectively"
   ]
  },
  {
   "cell_type": "code",
   "execution_count": 50,
   "id": "0d9f472d",
   "metadata": {},
   "outputs": [
    {
     "data": {
      "text/plain": [
       "(2, 5, 8, 9, 65, 9, 25, 35, 56)"
      ]
     },
     "execution_count": 50,
     "metadata": {},
     "output_type": "execute_result"
    }
   ],
   "source": [
    "l = [2,5,8,9,65,9,25,35,56]           \n",
    "tuple(l)"
   ]
  },
  {
   "cell_type": "code",
   "execution_count": 51,
   "id": "392f8d64",
   "metadata": {},
   "outputs": [
    {
     "data": {
      "text/plain": [
       "list[5, 8, 9, 658, 2, 5, 45, 25, 56]"
      ]
     },
     "execution_count": 51,
     "metadata": {},
     "output_type": "execute_result"
    }
   ],
   "source": [
    "t =(5,8,9,658,2,5,45,25,56)\n",
    "list[t]"
   ]
  },
  {
   "cell_type": "markdown",
   "id": "c147c25f",
   "metadata": {},
   "source": [
    "# 16. Variables that \"contain\" list values are not necessarily lists themselves. Instead, what do they contain?"
   ]
  },
  {
   "cell_type": "markdown",
   "id": "1ccdb089",
   "metadata": {},
   "source": [
    "Variables that \"contain\" list values are not necessarily lists themselves. Instead, they contain the reference of lists."
   ]
  },
  {
   "cell_type": "markdown",
   "id": "6a5b97ea",
   "metadata": {},
   "source": [
    "# 17. How do you distinguish between copy.copy() and copy.deepcopy()?"
   ]
  },
  {
   "cell_type": "markdown",
   "id": "a222a773",
   "metadata": {},
   "source": [
    "The copy.copy() function will do a shallow copy of a list, while the copy.deepcopy() function will do a deep copy of a list. That is, only copy.deepcopy() will duplicate any lists inside the list."
   ]
  }
 ],
 "metadata": {
  "kernelspec": {
   "display_name": "Python 3 (ipykernel)",
   "language": "python",
   "name": "python3"
  },
  "language_info": {
   "codemirror_mode": {
    "name": "ipython",
    "version": 3
   },
   "file_extension": ".py",
   "mimetype": "text/x-python",
   "name": "python",
   "nbconvert_exporter": "python",
   "pygments_lexer": "ipython3",
   "version": "3.9.12"
  }
 },
 "nbformat": 4,
 "nbformat_minor": 5
}
